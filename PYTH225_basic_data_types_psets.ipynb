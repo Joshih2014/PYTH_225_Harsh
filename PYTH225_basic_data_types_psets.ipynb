{
  "nbformat": 4,
  "nbformat_minor": 0,
  "metadata": {
    "colab": {
      "name": "PYTH225 basic_data_types_psets.ipynb",
      "provenance": [],
      "collapsed_sections": [],
      "include_colab_link": true
    },
    "kernelspec": {
      "name": "python3",
      "display_name": "Python 3"
    }
  },
  "cells": [
    {
      "cell_type": "markdown",
      "metadata": {
        "id": "view-in-github",
        "colab_type": "text"
      },
      "source": [
        "<a href=\"https://colab.research.google.com/github/Joshih2014/PYTH_225_Harsh/blob/master/PYTH225_basic_data_types_psets.ipynb\" target=\"_parent\"><img src=\"https://colab.research.google.com/assets/colab-badge.svg\" alt=\"Open In Colab\"/></a>"
      ]
    },
    {
      "cell_type": "markdown",
      "metadata": {
        "id": "hFmxhgDQVrV8",
        "colab_type": "text"
      },
      "source": [
        "#  BASIC DATA TYPES\n",
        "\n"
      ]
    },
    {
      "cell_type": "code",
      "metadata": {
        "id": "KB67CYYdMZkI",
        "colab_type": "code",
        "colab": {}
      },
      "source": [
        ""
      ],
      "execution_count": 0,
      "outputs": []
    },
    {
      "cell_type": "markdown",
      "metadata": {
        "id": "uayAR97cWGX1",
        "colab_type": "text"
      },
      "source": [
        "## EASY"
      ]
    },
    {
      "cell_type": "markdown",
      "metadata": {
        "id": "CXt8F7evWHum",
        "colab_type": "text"
      },
      "source": [
        "### P1.PY"
      ]
    },
    {
      "cell_type": "code",
      "metadata": {
        "id": "gYyR5LKAVrWA",
        "colab_type": "code",
        "colab": {}
      },
      "source": [
        "\"\"\"\n",
        "Placeholders\n",
        "\"\"\"\n",
        "\n",
        "# You're writing a program, and you don't know what your starting value for your 'initial' variable is yet. The program won't run if you leave it blank, but you don't want to forget you need it! Make a workaround.\n",
        "\n"
      ],
      "execution_count": 0,
      "outputs": []
    },
    {
      "cell_type": "code",
      "metadata": {
        "id": "YWRdPlKUMiEf",
        "colab_type": "code",
        "outputId": "91235b23-5cdb-4be5-f3f3-938037f1709b",
        "colab": {
          "base_uri": "https://localhost:8080/",
          "height": 36
        }
      },
      "source": [
        "v = None\n",
        "v = \"Thursday\"\n",
        "print (v)"
      ],
      "execution_count": 0,
      "outputs": [
        {
          "output_type": "stream",
          "text": [
            "Thursday\n"
          ],
          "name": "stdout"
        }
      ]
    },
    {
      "cell_type": "markdown",
      "metadata": {
        "id": "ujd4_d5VVrWD",
        "colab_type": "text"
      },
      "source": [
        "\n",
        "\n",
        "### P2.PY\n",
        "\n",
        "\n"
      ]
    },
    {
      "cell_type": "code",
      "metadata": {
        "id": "9p_mg-MjVrWE",
        "colab_type": "code",
        "outputId": "b95693c7-8e68-4c73-d733-78621a19f754",
        "colab": {
          "base_uri": "https://localhost:8080/",
          "height": 54
        }
      },
      "source": [
        "\"\"\"\n",
        "Basic Variables\n",
        "\"\"\"\n",
        "\n",
        "# Create a variable that represents your favorite number, and add a note to remind yourself what this variable represents. Now print it out without re-typing the number.\n",
        "\n",
        "number = 9 #this variable represents my favorit number\n",
        "print (number)\n",
        "\n",
        "# Create another variable that represents your favorite color, and do the same steps as above.\n",
        "c = \"saffron\" # be good to self document by having your variable name as descriptive as possible - my_favorite_color is better name\n",
        "print (c)\n"
      ],
      "execution_count": 0,
      "outputs": [
        {
          "output_type": "stream",
          "text": [
            "9\n",
            "saffron\n"
          ],
          "name": "stdout"
        }
      ]
    },
    {
      "cell_type": "markdown",
      "metadata": {
        "id": "VbaMGAAYVrWH",
        "colab_type": "text"
      },
      "source": [
        "\n",
        "\n",
        "### P3.PY\n",
        "\n",
        "\n"
      ]
    },
    {
      "cell_type": "code",
      "metadata": {
        "id": "2i4mFvLGVrWI",
        "colab_type": "code",
        "outputId": "f695e030-8228-40a0-e577-64422c9b8b1f",
        "colab": {
          "base_uri": "https://localhost:8080/",
          "height": 128
        }
      },
      "source": [
        "\"\"\"\n",
        "String Formatting\n",
        "\"\"\"\n",
        "\n",
        "# Create a variable that contains the first 4 lines of lyrics from your favorite song. Add a comment that includes the song title and artist **each on their own line**! Now print out this variable.\n",
        "\n",
        "song = \"\"\" \n",
        "You can check out any time you like\n",
        "but you can never leave\n",
        "up ahead in the distance\n",
        "I saw a shimmering light\n",
        "\"\"\"\n",
        "# Hotel California by Eagles\n",
        "print (song)\n"
      ],
      "execution_count": 0,
      "outputs": [
        {
          "output_type": "stream",
          "text": [
            " \n",
            "You can check out any time you\n",
            "but you can never leave\n",
            "up ahead in the distance\n",
            "I saw a shimmering light\n",
            "\n"
          ],
          "name": "stdout"
        }
      ]
    },
    {
      "cell_type": "markdown",
      "metadata": {
        "id": "poqjlnEOVrWh",
        "colab_type": "text"
      },
      "source": [
        "## OPERATORS\n",
        "\n",
        "\n",
        "\n"
      ]
    },
    {
      "cell_type": "markdown",
      "metadata": {
        "id": "3j0bS-HcWNLi",
        "colab_type": "text"
      },
      "source": [
        "### P1.PY"
      ]
    },
    {
      "cell_type": "code",
      "metadata": {
        "id": "poP19mJxVrWi",
        "colab_type": "code",
        "outputId": "979a06fc-c885-47b9-aeab-6d7b1ab4edef",
        "colab": {
          "base_uri": "https://localhost:8080/",
          "height": 128
        }
      },
      "source": [
        "\"\"\"\n",
        "Game Show Score\n",
        "\"\"\"\n",
        "\n",
        "# Imagine the var below represents the latest score of a competitor on a game show. As this person plays, you need to update their score to reflect gains and losses in points. Each math operation below dictates the change in the competitor's score to be made after each of his or her actions.\n",
        "\n",
        "# Complete the below math operations and print the results to show the changes in the competitor's score throughout the game.\n",
        "\n",
        "latest_score = 100\n",
        "print(latest_score)\n",
        "\n",
        "# Add 50\n",
        "round1_score = latest_score + 50\n",
        "print (round1_score)\n",
        "\n",
        "# Subtract 90\n",
        "round2_score = round1_score - 90\n",
        "print (round2_score)\n",
        "\n",
        "# Multiply 10\n",
        "round3_score = round2_score * 10\n",
        "print (round3_score)\n",
        "\n",
        "\n",
        "# Divide 150\n",
        "round4_score = round3_score / 150\n",
        "print(round4_score)\n",
        "\n",
        "\n",
        "# Modulus 3\n",
        "round5_score = round4_score % 3\n",
        "print (round5_score)\n",
        "\n"
      ],
      "execution_count": 0,
      "outputs": [
        {
          "output_type": "stream",
          "text": [
            "100\n",
            "150\n",
            "60\n",
            "600\n",
            "4.0\n",
            "1.0\n"
          ],
          "name": "stdout"
        }
      ]
    },
    {
      "cell_type": "markdown",
      "metadata": {
        "id": "WAYZJHHgVrWk",
        "colab_type": "text"
      },
      "source": [
        "\n",
        "\n",
        "### P2.PY\n",
        "\n",
        "\n"
      ]
    },
    {
      "cell_type": "code",
      "metadata": {
        "id": "P067XIZ8VrWl",
        "colab_type": "code",
        "outputId": "4576e1ba-0169-40a5-cb3a-c45d307a3aab",
        "colab": {
          "base_uri": "https://localhost:8080/",
          "height": 36
        }
      },
      "source": [
        "\"\"\"\n",
        "String Operators\n",
        "\"\"\"\n",
        "\n",
        "# Create two variables, each of which is half of a compound sentence. \n",
        "## Example compound sentence: \"I'll go to the beach today, and I'll go snorkeling.\" \n",
        "first_part_of_sentence = \"I'll go to the beach today\"\n",
        "second_part_of_sentence = \", and I'll go snorkeling.\"\n",
        "combined_sentence = first_part_of_sentence + second_part_of_sentence\n",
        "print (combined_sentence)"
      ],
      "execution_count": 0,
      "outputs": [
        {
          "output_type": "stream",
          "text": [
            "I'll go to the beach today, and I'll go snorkeling.\n"
          ],
          "name": "stdout"
        }
      ]
    },
    {
      "cell_type": "markdown",
      "metadata": {
        "id": "TqqaKHjuVrWn",
        "colab_type": "text"
      },
      "source": [
        "\n",
        "\n",
        "### P3.PY\n",
        "\n",
        "\n"
      ]
    },
    {
      "cell_type": "code",
      "metadata": {
        "id": "H7kysyPYVrWo",
        "colab_type": "code",
        "outputId": "1bda1e4f-d237-496b-f5da-dfb0598b2c19",
        "colab": {
          "base_uri": "https://localhost:8080/",
          "height": 69
        }
      },
      "source": [
        "\"\"\"\n",
        "Addition I - Numbers & Strings\n",
        "\"\"\"\n",
        "\n",
        "# Add the below sets of variables together without causing any Type Errors. \n",
        "\n",
        "# A)\n",
        "a = 0\n",
        "b = 2\n",
        "c = a + b\n",
        "print (c)\n",
        "\n",
        "# B)\n",
        "c = '0'\n",
        "d = '2'\n",
        "e = c + d\n",
        "print (e)\n",
        "\n",
        "\n",
        "# C)\n",
        "e = '0'\n",
        "f = 2\n",
        "g = int(e) + f\n",
        "print (g)"
      ],
      "execution_count": 2,
      "outputs": [
        {
          "output_type": "stream",
          "text": [
            "2\n",
            "02\n",
            "2\n"
          ],
          "name": "stdout"
        }
      ]
    },
    {
      "cell_type": "markdown",
      "metadata": {
        "id": "T4rtuQ1CVrWr",
        "colab_type": "text"
      },
      "source": [
        "\n",
        "\n",
        "### P4.PY\n",
        "\n",
        "\n"
      ]
    },
    {
      "cell_type": "code",
      "metadata": {
        "id": "eCkVtKI8VrWs",
        "colab_type": "code",
        "outputId": "c67a098b-bf0c-43c8-f4cd-90e9e5280e0c",
        "colab": {
          "base_uri": "https://localhost:8080/",
          "height": 69
        }
      },
      "source": [
        "\"\"\"\n",
        "Addition II - Booleans\n",
        "\"\"\"\n",
        "\n",
        "# Add the below sets of variables together.\n",
        "\n",
        "# A)\n",
        "a = True\n",
        "b = True\n",
        "print(a+b)\n",
        "\n",
        "\n",
        "\n",
        "# B)\n",
        "c = False\n",
        "d = False\n",
        "print (c + d)\n",
        "\n",
        "\n",
        "# C)\n",
        "e = True\n",
        "f = False\n",
        "print (e + f)"
      ],
      "execution_count": 0,
      "outputs": [
        {
          "output_type": "stream",
          "text": [
            "2\n",
            "0\n",
            "1\n"
          ],
          "name": "stdout"
        }
      ]
    },
    {
      "cell_type": "markdown",
      "metadata": {
        "id": "0o8YPHxoVrWL",
        "colab_type": "text"
      },
      "source": [
        "## TYPECASTING\n",
        "\n"
      ]
    },
    {
      "cell_type": "markdown",
      "metadata": {
        "id": "XlNf2YptWKVu",
        "colab_type": "text"
      },
      "source": [
        "### P1.PY"
      ]
    },
    {
      "cell_type": "code",
      "metadata": {
        "id": "LDgWvrWzVrWM",
        "colab_type": "code",
        "outputId": "17ab8d60-41dd-4221-93a8-af7f1111d81e",
        "colab": {
          "base_uri": "https://localhost:8080/",
          "height": 173
        }
      },
      "source": [
        "\"\"\"\n",
        "Typcasting w. Integers & Floats\n",
        "\"\"\"\n",
        "\n",
        "# Convert these numbers into floats and back. Print out each result as well as its data type.\n",
        "\n",
        "five = 5\n",
        "zero = 0\n",
        "neg_8 = -8\n",
        "neg_22 = -22\n",
        "\n",
        "# print (float (five)), print (five), print (type (five))\n",
        "print (float(zero)), print (zero)\n",
        "print (float (neg_8)), print (neg_8)\n",
        "print (float(neg_22))\n"
      ],
      "execution_count": 0,
      "outputs": [
        {
          "output_type": "stream",
          "text": [
            "5.0\n",
            "5\n",
            "<class 'int'>\n",
            "0.0\n",
            "0\n",
            "-8.0\n",
            "-8\n",
            "-22.0\n"
          ],
          "name": "stdout"
        },
        {
          "output_type": "execute_result",
          "data": {
            "text/plain": [
              "int"
            ]
          },
          "metadata": {
            "tags": []
          },
          "execution_count": 14
        }
      ]
    },
    {
      "cell_type": "markdown",
      "metadata": {
        "id": "HWOwfU00VrWS",
        "colab_type": "text"
      },
      "source": [
        "\n",
        "\n",
        "### P2.PY\n",
        "\n",
        "\n"
      ]
    },
    {
      "cell_type": "code",
      "metadata": {
        "id": "_5-k5J4mVrWT",
        "colab_type": "code",
        "outputId": "52656028-0947-4d32-8858-eacc50cd4f04",
        "colab": {
          "base_uri": "https://localhost:8080/",
          "height": 364
        }
      },
      "source": [
        "\"\"\"\n",
        "Typcasting w. Strings\n",
        "\"\"\"\n",
        "\n",
        "# Convert these variables into strings and then back to their original data types. Print out each result as well as its data type. What do you notice about the last one?\n",
        "\n",
        "five = 5\n",
        "zero = 0\n",
        "neg_8 = -8\n",
        "T = True\n",
        "F = False\n",
        "five = str(five)\n",
        "print (type(five)), print (five)\n",
        "five = int(five)\n",
        "print (type(five))\n",
        "print (five)\n",
        "zero = str(zero)\n",
        "print (type(zero)), print (zero)\n",
        "zero = int(zero)\n",
        "print (type(zero))\n",
        "print (zero)\n",
        "neg_8 = str(neg_8)\n",
        "print (type(neg_8)), print (neg_8)\n",
        "neg_8 = int(neg_8)\n",
        "print (type(neg_8))\n",
        "print (neg_8)\n",
        "T = str(T)\n",
        "print (type(T))\n",
        "print (T)\n",
        "T = bool(T)\n",
        "print (type(T))\n",
        "print (T)\n",
        "F = str(F)\n",
        "print (type(F))\n",
        "print (F)\n",
        "F = bool(F)\n",
        "print (type(F))\n",
        "print (F)"
      ],
      "execution_count": 0,
      "outputs": [
        {
          "output_type": "stream",
          "text": [
            "<class 'str'>\n",
            "5\n",
            "<class 'int'>\n",
            "5\n",
            "<class 'str'>\n",
            "0\n",
            "<class 'int'>\n",
            "0\n",
            "<class 'str'>\n",
            "-8\n",
            "<class 'int'>\n",
            "-8\n",
            "<class 'str'>\n",
            "True\n",
            "<class 'bool'>\n",
            "True\n",
            "<class 'str'>\n",
            "False\n",
            "<class 'bool'>\n",
            "True\n"
          ],
          "name": "stdout"
        }
      ]
    },
    {
      "cell_type": "markdown",
      "metadata": {
        "id": "FO_LansxVrWV",
        "colab_type": "text"
      },
      "source": [
        "\n",
        "\n",
        "### P3.PY\n",
        "\n",
        "\n"
      ]
    },
    {
      "cell_type": "code",
      "metadata": {
        "id": "bSVcghffVrWW",
        "colab_type": "code",
        "outputId": "a15f5e9c-9f31-423a-94ba-a643f11bd725",
        "colab": {
          "base_uri": "https://localhost:8080/",
          "height": 330
        }
      },
      "source": [
        "\"\"\"\n",
        "Booleans I - Typecasting w. Numbers\n",
        "\"\"\"\n",
        "\n",
        "# A) Use typecasting to turn these variables into boolean values. Print the result and the datatype of the result. \n",
        "\n",
        "one = 1\n",
        "zero = 0\n",
        "one = (bool(one))\n",
        "zero = (bool(zero))\n",
        "print (one)\n",
        "print (type(one))\n",
        "print (zero)\n",
        "print (type (zero))\n",
        "# B) Use typecasting to turn the resultant variables from part A into floats. Print the result and the datatype of the result.\n",
        "one = float(one)\n",
        "print(one)\n",
        "print(type(one))\n",
        "zero = (float(zero))\n",
        "print (zero)\n",
        "print (type(zero))\n",
        "# C) Use typecasting to turn the resultant variables from part B back into booleans. Print the result and the datatype of the result.\n",
        "one = bool(one)\n",
        "print (one)\n",
        "print (type(one))\n",
        "zero = bool(zero)\n",
        "print (zero)\n",
        "print (type(zero))\n",
        "\n",
        "# C) Use typecasting to turn the resultant variables from part C into integers. Print the result and the datatype of the result.\n",
        "one = int(one)\n",
        "print (one)\n",
        "print (type(one))\n",
        "zero = int(zero)\n",
        "print (zero)\n",
        "print (type(zero))\n",
        "\n",
        "# E) Use typecasting to turn the variable below into a boolean value. Print the result and the datatype of the result. \n",
        "\n",
        "ten = 10\n",
        "ten = bool(ten)\n",
        "print (ten)\n",
        "print(type(ten))"
      ],
      "execution_count": 0,
      "outputs": [
        {
          "output_type": "stream",
          "text": [
            "True\n",
            "<class 'bool'>\n",
            "False\n",
            "<class 'bool'>\n",
            "1.0\n",
            "<class 'float'>\n",
            "0.0\n",
            "<class 'float'>\n",
            "True\n",
            "<class 'bool'>\n",
            "False\n",
            "<class 'bool'>\n",
            "1\n",
            "<class 'int'>\n",
            "0\n",
            "<class 'int'>\n",
            "True\n",
            "<class 'bool'>\n"
          ],
          "name": "stdout"
        }
      ]
    },
    {
      "cell_type": "markdown",
      "metadata": {
        "id": "Q7lEbfSQVrWc",
        "colab_type": "text"
      },
      "source": [
        "\n",
        "\n",
        "### P4.PY\n",
        "\n",
        "\n"
      ]
    },
    {
      "cell_type": "code",
      "metadata": {
        "id": "YFLt2TDXVrWf",
        "colab_type": "code",
        "outputId": "62410f33-c31b-4e9d-a181-aa477eb12824",
        "colab": {
          "base_uri": "https://localhost:8080/",
          "height": 330
        }
      },
      "source": [
        "\"\"\"\n",
        "Booleans II - Typecasting w. Strings\n",
        "\"\"\"\n",
        "\n",
        "# A) Use typecasting to turn these variables into boolean values. Print the result and the datatype of the result. \n",
        "\n",
        "one = 1\n",
        "zero = 0\n",
        "T = True\n",
        "F = False\n",
        "print(type(T))\n",
        "print(type(F))\n",
        "one = bool(one)\n",
        "zero = bool (zero)\n",
        "T = bool (T)\n",
        "F = bool (F)\n",
        "print (one)\n",
        "print(zero)\n",
        "print(T)\n",
        "print (F)\n",
        "print (type(one))\n",
        "print (type(zero))\n",
        "print (type(T))\n",
        "print (type(F))\n",
        "\n",
        "# B) Use typecasting to turn the latest values for variables 'one' and 'zero' back into integers. Print the result and the datatype of the result.\n",
        "one = int(one)\n",
        "zero = int(zero)\n",
        "print (one)\n",
        "print (zero)\n",
        "print (type (one))\n",
        "print (type(zero))\n",
        "\n",
        "# C) Use typecasting to turn the latest values for variables 'T' and 'F' back into boolean values. Print the result and the datatype of the result.\n",
        "T = str(T)\n",
        "F = str(F)\n",
        "print(T)\n",
        "print(F)\n",
        "print(type(T))\n",
        "print(type(F))\n",
        "\n",
        "\n",
        "\n"
      ],
      "execution_count": 0,
      "outputs": [
        {
          "output_type": "stream",
          "text": [
            "<class 'bool'>\n",
            "<class 'bool'>\n",
            "True\n",
            "False\n",
            "True\n",
            "False\n",
            "<class 'bool'>\n",
            "<class 'bool'>\n",
            "<class 'bool'>\n",
            "<class 'bool'>\n",
            "1\n",
            "0\n",
            "<class 'int'>\n",
            "<class 'int'>\n",
            "True\n",
            "False\n",
            "<class 'str'>\n",
            "<class 'str'>\n"
          ],
          "name": "stdout"
        }
      ]
    },
    {
      "cell_type": "markdown",
      "metadata": {
        "id": "pRORE6K8VrWy",
        "colab_type": "text"
      },
      "source": [
        "## SHOPPING_LIST\n",
        "\n",
        "\n"
      ]
    },
    {
      "cell_type": "markdown",
      "metadata": {
        "id": "sX291wpjWQea",
        "colab_type": "text"
      },
      "source": [
        "### P1.PY"
      ]
    },
    {
      "cell_type": "code",
      "metadata": {
        "id": "kH5HZBmiVrWy",
        "colab_type": "code",
        "outputId": "4ce9b5a6-7b6a-4b50-82aa-ca3369dce5e1",
        "colab": {
          "base_uri": "https://localhost:8080/",
          "height": 104
        }
      },
      "source": [
        "\"\"\"\n",
        "Shopping List Calculator I\n",
        "\"\"\"\n",
        "\n",
        "# Create five variables,\n",
        "# set them to strings that represent 5 common shopping list items\n",
        "\n",
        "\n",
        "item_name_1 = None\n",
        "item_name_2 = None\n",
        "item_name_3 = None\n",
        "item_name_4 = None\n",
        "item_name_5 = None\n",
        "item_name_1 = \"Coco Puffs\"\n",
        "item_name_2 = \"Milk\"\n",
        "item_name_3 = \"Butter\"\n",
        "item_name_4 = \"Cream\"\n",
        "item_name_5 = \"Eggs\"\n",
        "# Create five more variables,\n",
        "# set them to floats that represent the prices of each of the items above\n",
        "\n",
        "item_price_1 = None\n",
        "item_price_2 = None\n",
        "item_price_3 = None\n",
        "item_price_4 = None\n",
        "item_price_5 = None\n",
        "\n",
        "item_price_1 = 4.99\n",
        "item_price_2 = 3.99\n",
        "item_price_3 = 5.99\n",
        "item_price_4 = 2.49\n",
        "item_price_5 = 6.49\n",
        "\n",
        "# Create five more variables,\n",
        "# set them to ints that represent the quantity of each of the items above\n",
        "item_quant_1 = None\n",
        "item_quant_2 = None\n",
        "item_quant_3 = None\n",
        "item_quant_4 = None\n",
        "item_quant_5 = None\n",
        "\n",
        "item_quant_1 = 1.0\n",
        "item_quant_2 = 2.0\n",
        "item_quant_3 = 3.0\n",
        "item_quant_4 = 4.0\n",
        "item_quant_5 = 5.0\n",
        "# Print to the console the name and price of each item defined above as follows:\n",
        "# 1 Coco Puffs = $8.95.\n",
        "# where:\n",
        "# 1 would be item_quant_1\n",
        "# Coco Puffs would be item_name_1\n",
        "# 8.95 would be item_name_2\n",
        "#print ('%s is %d years old' % ('Joe', 42))\n",
        "#print(('item %s, price %s, count %d') % (item_name_1, item_price_1,item_quant_1))\n",
        "#print(('item %s') % (item_name_1))\n",
        "print(item_name_1 + \" \" + str(item_price_1 * item_quant_1))\n",
        "print(item_name_2 + \" \" + str(item_price_2 * item_quant_2))\n",
        "print(item_name_3 + \" \" + str(item_price_3 * item_quant_3))\n",
        "print(item_name_4 + \" \" + str(item_price_4 * item_quant_4))\n",
        "print(item_name_5 + \" \" + str(item_price_5 * item_quant_5))"
      ],
      "execution_count": 0,
      "outputs": [
        {
          "output_type": "stream",
          "text": [
            "Coco Puffs 4.99\n",
            "Milk 7.98\n",
            "Butter 17.97\n",
            "Cream 9.96\n",
            "Eggs 32.45\n"
          ],
          "name": "stdout"
        }
      ]
    },
    {
      "cell_type": "markdown",
      "metadata": {
        "id": "tr50TO3xVrW1",
        "colab_type": "text"
      },
      "source": [
        "\n",
        "\n",
        "### P2.PY\n",
        "\n",
        "\n"
      ]
    },
    {
      "cell_type": "code",
      "metadata": {
        "id": "_6WnvYbpVrW2",
        "colab_type": "code",
        "outputId": "cd4e96f7-2f75-4564-dc14-842ae114d864",
        "colab": {
          "base_uri": "https://localhost:8080/",
          "height": 277
        }
      },
      "source": [
        "\"\"\"\n",
        "Shopping List Calculator II\n",
        "\"\"\"\n",
        "\n",
        "# Rewrite p1, but this time use the input() command to solicit user input for name, price, quantity. Here's how it works:\n",
        "\n",
        "#item_name_1 = input('Name your first item: ') \n",
        "\t# ^ this will ask user to input value of item_name_1\n",
        "\n",
        "# use input() function and ask user to name items\n",
        "item_name_1 = None\n",
        "item_name_2 = None\n",
        "item_name_3 = None\n",
        "item_name_4 = None\n",
        "item_name_5 = None\n",
        "item_name_1 = input(\"Name your first item: \")\n",
        "item_name_2 = input(\"Name your second item: \")\n",
        "item_name_3 = input(\"Name your third item: \")\n",
        "item_name_4 = input(\"Name your fourth item: \")\n",
        "item_name_5 = input(\"Name your fifth item: \")\n",
        "\n",
        "# use input() function and ask user to name prices\n",
        "item_price_1 = None\n",
        "item_price_2 = None\n",
        "item_price_3 = None\n",
        "item_price_4 = None\n",
        "item_price_5 = None\n",
        "item_price_1 = 4.99\n",
        "item_price_2 = 3.99\n",
        "item_price_3 = 5.99\n",
        "item_price_4 = 2.49\n",
        "item_price_5 = 6.49\n",
        "\n",
        "# use input() function and ask user to name quants\n",
        "item_quant_1 = None\n",
        "item_quant_2 = None\n",
        "item_quant_3 = None\n",
        "item_quant_4 = None\n",
        "item_quant_5 = None\n",
        "item_quant_1 = input (\"Quantity: \")\n",
        "item_quant_2 = int(item_quant_1) + 1\n",
        "print (f\"Quantity: {(item_quant_2)}\")\n",
        "item_quant_3 = item_quant_2 + 1\n",
        "print (f\"Quantity: {(item_quant_3)}\")\n",
        "item_quant_4 = item_quant_3 + 1\n",
        "print (f\"Quantity: {(item_quant_4)}\")\n",
        "item_quant_5 = item_quant_4 + 1\n",
        "print (f\"Quantity: {(item_quant_5)}\")\n",
        "\n",
        "#item_quant_2 = input (\"Quantity: \")\n",
        "#item_quant_3 = input (\"Quantity: \")\n",
        "#item_quant_4 = input (\"Quantity: \")\n",
        "#item_quant_5 = input (\"Quantity: \")\n",
        "# Print to the console the name and price of each item defined above as follows:\n",
        "# 1 Coco Puffs = $8.95.\n",
        "# where:\n",
        "# 1 would be item_quant_1\n",
        "# Coco Puffs would be item_name_1\n",
        "# 8.95 would be item_name_2\n",
        "\n",
        "# JUST REMEMBER: now this will be defined by the user!!\n",
        "print(item_name_1 + \" \" + str(item_price_1 * float(item_quant_1)))\n",
        "print(item_name_2 + \" \" + str(item_price_2 * float(item_quant_2)))\n",
        "print(item_name_3 + \" \" + str(item_price_3 * float(item_quant_3)))\n",
        "print(item_name_4 + \" \" + str(item_price_4 * float(item_quant_4)))\n",
        "print(item_name_5 + \" \" + str(item_price_5 * float(item_quant_5)))"
      ],
      "execution_count": 8,
      "outputs": [
        {
          "output_type": "stream",
          "text": [
            "Name your first item: coco\n",
            "Name your second item: eggs\n",
            "Name your third item: bread\n",
            "Name your fourth item: butter\n",
            "Name your fifth item: cream\n",
            "Quantity: 1\n",
            "Quantity: 2\n",
            "Quantity: 3\n",
            "Quantity: 4\n",
            "Quantity: 5\n",
            "coco 4.99\n",
            "eggs 7.98\n",
            "bread 17.97\n",
            "butter 9.96\n",
            "cream 32.45\n"
          ],
          "name": "stdout"
        }
      ]
    },
    {
      "cell_type": "markdown",
      "metadata": {
        "id": "vgZcfv-zVrW4",
        "colab_type": "text"
      },
      "source": [
        "\n"
      ]
    }
  ]
}