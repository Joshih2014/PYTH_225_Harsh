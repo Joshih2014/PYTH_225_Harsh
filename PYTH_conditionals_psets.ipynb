{
  "nbformat": 4,
  "nbformat_minor": 0,
  "metadata": {
    "colab": {
      "name": "PYTH conditionals_psets.ipynb",
      "provenance": [],
      "collapsed_sections": [],
      "include_colab_link": true
    },
    "kernelspec": {
      "name": "python3",
      "display_name": "Python 3"
    }
  },
  "cells": [
    {
      "cell_type": "markdown",
      "metadata": {
        "id": "view-in-github",
        "colab_type": "text"
      },
      "source": [
        "<a href=\"https://colab.research.google.com/github/Joshih2014/PYTH_225_Harsh/blob/master/PYTH_conditionals_psets.ipynb\" target=\"_parent\"><img src=\"https://colab.research.google.com/assets/colab-badge.svg\" alt=\"Open In Colab\"/></a>"
      ]
    },
    {
      "cell_type": "markdown",
      "metadata": {
        "id": "FiL9pv11VtnR",
        "colab_type": "text"
      },
      "source": [
        "#  CONDITIONALS\n",
        "\n",
        "\n"
      ]
    },
    {
      "cell_type": "markdown",
      "metadata": {
        "id": "gijpYMCLV00L",
        "colab_type": "text"
      },
      "source": [
        "## WEATHER"
      ]
    },
    {
      "cell_type": "markdown",
      "metadata": {
        "id": "KL7ytXn4V2WB",
        "colab_type": "text"
      },
      "source": [
        "### P1.PY"
      ]
    },
    {
      "cell_type": "markdown",
      "metadata": {
        "id": "sYCphblnGe7C",
        "colab_type": "text"
      },
      "source": [
        ""
      ]
    },
    {
      "cell_type": "code",
      "metadata": {
        "id": "DI7pAIN7Ggpy",
        "colab_type": "code",
        "outputId": "40fc09e8-7d3d-4141-f369-40a33ba59583",
        "colab": {
          "base_uri": "https://localhost:8080/",
          "height": 33
        }
      },
      "source": [
        "a = 1\n",
        "\n",
        "#if a < 0:\n",
        "#    print(\"this code will run\")\n",
        "#else:\n",
        "#    print(\"a must have been greater than zero\")    \n",
        "\n",
        "a = \"1\"\n",
        "\n",
        "#a = int(a)\n",
        "if int(a) < 0:\n",
        "    print(\"This code will run\")\n",
        "else:\n",
        "    print(\"a must have been greater than zero\")  \n",
        "#try:\n",
        "  "
      ],
      "execution_count": 0,
      "outputs": [
        {
          "output_type": "stream",
          "text": [
            "a must have been greater than zero\n"
          ],
          "name": "stdout"
        }
      ]
    },
    {
      "cell_type": "code",
      "metadata": {
        "id": "e32ChHBAVtnU",
        "colab_type": "code",
        "outputId": "9b4a8f9d-1abc-4a84-f439-2e900111dde2",
        "colab": {
          "base_uri": "https://localhost:8080/",
          "height": 272
        }
      },
      "source": [
        "\"\"\"\n",
        "Weather I - Do you need boots?\n",
        "\"\"\"\n",
        "\n",
        "# Use the values of the vars defined below to ouput the correct contextual answer to the questions below. (Note: The variables themselves ARE the questions.)\n",
        "\n",
        "# Example:\n",
        "## am_i_hungry = False\n",
        "## am_i_tired = True\n",
        "## do_i_need_to_stay_awake = False\n",
        "\n",
        "## should_i_drink_coffee_now = am_i_tired and do_i_need_to_stay_awake\n",
        "\n",
        "## ^^ This ^^ evaluates to False. If you're tired and don't need to stay awake, you don't need to drink coffee!\n",
        "\n",
        "# Testing for both raining = true and raining = false; do a loop that goes through the code twice\n",
        "\n",
        "n = 0\n",
        "while n < 2:\n",
        "  \n",
        "  print(f\"value of n for # of loops is = {(n)}\")\n",
        "  is_it_rainingstr = input(\"Is it raining True / False? \") \n",
        "\n",
        "  if is_it_rainingstr == \"True\":\n",
        "    is_it_raining = True\n",
        "    is_it_snowing = False\n",
        "  if is_it_rainingstr == \"False\":\n",
        "    is_it_raining = False\n",
        "    is_it_snowing = True  \n",
        "\n",
        "  if is_it_raining == True:\n",
        "    do_i_need_snow_boots = False\n",
        "    can_i_skip_snow_boots = True\n",
        "    do_i_need_rain_boots = True\n",
        "    can_i_skip_rain_boots = False\n",
        "    print(f\"W1. It is raining = {is_it_raining}, you should wear rain boots \")\n",
        "    print(f\"W1. value of do_i_need_snow_boots {do_i_need_snow_boots}\")\n",
        "    print(f\"W1. value of can_i_skip_snow_boots {(can_i_skip_snow_boots)}\")\n",
        "    print(f\"W1. value of do_i_need_rain_boots {(do_i_need_rain_boots)}\")\n",
        "    print(f\"W1. value of can_i_skip_rain_boots {(can_i_skip_rain_boots)}\")\n",
        "\n",
        "  else:\n",
        "    is_it_snowing = True\n",
        "    do_i_need_snow_boots = True\n",
        "    can_i_skip_snow_boots = False\n",
        "    do_i_need_rain_boots = False\n",
        "    can_i_skip_rain_boots = True \n",
        "    print(f\"It is snowing = {is_it_snowing}, you should wear snow boots \") \n",
        "    print(f\"W1. value of do_i_need_snow_boots {do_i_need_snow_boots}\")\n",
        "    print(f\"W1. value of can_i_skip_snow_boots {(can_i_skip_snow_boots)}\")\n",
        "    print(f\"W1. value of do_i_need_rain_boots {(do_i_need_rain_boots)}\")\n",
        "    print(f\"W1. value of can_i_skip_rain_boots {(can_i_skip_rain_boots)}\")\n",
        "  n = n + 1\n",
        "\n",
        "print(\"exiting the loop\")  \n",
        "\n"
      ],
      "execution_count": 0,
      "outputs": [
        {
          "output_type": "stream",
          "text": [
            "value of n for # of loops is = 0\n",
            "Is it raining True / False? True\n",
            "W1. It is raining = True, you should wear rain boots \n",
            "W1. value of do_i_need_snow_boots False\n",
            "W1. value of can_i_skip_snow_boots True\n",
            "W1. value of do_i_need_rain_boots True\n",
            "W1. value of can_i_skip_rain_boots False\n",
            "value of n for # of loops is = 1\n",
            "Is it raining True / False? False\n",
            "It is snowing = True, you should wear snow boots \n",
            "W1. value of do_i_need_snow_boots True\n",
            "W1. value of can_i_skip_snow_boots False\n",
            "W1. value of do_i_need_rain_boots False\n",
            "W1. value of can_i_skip_rain_boots True\n",
            "exiting the loop\n"
          ],
          "name": "stdout"
        }
      ]
    },
    {
      "cell_type": "markdown",
      "metadata": {
        "id": "t9cxGL-8VtnX",
        "colab_type": "text"
      },
      "source": [
        "\n",
        "\n",
        "### P2.PY\n",
        "\n",
        "\n"
      ]
    },
    {
      "cell_type": "code",
      "metadata": {
        "id": "y80DTzliVtnY",
        "colab_type": "code",
        "colab": {}
      },
      "source": [
        "\"\"\"\n",
        "Weather II - Precipitation\n",
        "\"\"\"\n",
        "\n",
        "# Repeat the same process as p1, using this new set of variables.\n",
        "\n",
        "#if sunny:\n",
        "#  if raining:\n",
        "#    if snowing:\n",
        "#      pass\n",
        "#    else:\n",
        "#     is_there_rainbow = True \n",
        "#else:\n",
        "#  if raining:\n",
        "#    if snowing:\n",
        "#     pass\n",
        "#   else:\n",
        "#     is_there_precipitation = True\n",
        "\n",
        "action = \"continue\"\n",
        "#n = 0\n",
        "while action == \"continue\":\n",
        "#The following statements check if all 3 variables - sunny, raining, snowing are True\n",
        "  sunnystr = input(\"Is it Sunny (True or False): \")\n",
        "  if(sunnystr == \"True\"):\n",
        "      sunny = True\n",
        "  else:\n",
        "      sunny = False\n",
        "  rainingstr = input(\"Is it raining (True or False): \")\n",
        "  if(rainingstr == \"True\"):\n",
        "      raining = True\n",
        "  else:\n",
        "      raining = False\n",
        "  snowingstr = input(\"Is it snowing (True or False): \")  \n",
        "  if(snowingstr == \"True\"):\n",
        "      snowing = True\n",
        "  else:\n",
        "      snowing = False  \n",
        "  if(sunny and (raining or snowing)) is True:\n",
        "      is_there_rainbow = True\n",
        "      print(f\"There is a rainbow and the variable value is {is_there_rainbow}\")\n",
        "# This elif statement only checks for raining or snowing being True and ignores sunny or not\n",
        "  elif (raining or snowing) is True:\n",
        "      print(f\"There is precipation \")  \n",
        "  action = input(\"Enter continue or exit: \") # Need to put this within while block otherwise you will get infinite loop\n",
        "\n"
      ],
      "execution_count": 0,
      "outputs": []
    },
    {
      "cell_type": "markdown",
      "metadata": {
        "id": "777sx1WCVtno",
        "colab_type": "text"
      },
      "source": [
        "\n",
        "\n",
        "### P3.PY\n",
        "\n",
        "\n"
      ]
    },
    {
      "cell_type": "code",
      "metadata": {
        "id": "9dNGqX2wVtnp",
        "colab_type": "code",
        "outputId": "aae4607d-e2b5-4c3b-f477-35b775b4f556",
        "colab": {
          "base_uri": "https://localhost:8080/",
          "height": 306
        }
      },
      "source": [
        "\"\"\"\n",
        "Weather III - Describe Conditions\n",
        "\"\"\"\n",
        "\n",
        "# Repeat the same process as p1, using this new set of variables.\n",
        "\n",
        "\n",
        "is_it_warm = True # summer or not\n",
        "is_it_humid = True # muggy or not\n",
        "is_it_cold = False # need a coat or not\n",
        "is_it_icy = False # need a coat or not\n",
        "is_it_foggy = False # \n",
        "is_it_windy = False # need a coat or not\n",
        "is_it_overcast = True # rain or not\n",
        "\n",
        "\n",
        "is_it_summer_weather = None\n",
        "is_rain_coming = None\n",
        "is_it_muggy = None\n",
        "do_i_need_coat = None\n",
        "\n",
        "is_it_warmstr = input(\"Is it warming? (yes/no): \")\n",
        "if(is_it_warmstr) == \"yes\":\n",
        "  is_it_warm = True\n",
        "  print(\"It is summer weather\")\n",
        "elif ((is_it_warmstr) == \"no\"):\n",
        "  is_it_warm = False\n",
        "  print(\"It is not warm\")\n",
        "\n",
        "is_it_humidstr = input(\"Is it humid? (yes/no): \")\n",
        "if(is_it_humidstr) == \"yes\":\n",
        "  is_it_humid = True\n",
        "  print(\"It is muggy\")\n",
        "elif ((is_it_humidstr) == \"no\"):\n",
        "  is_it_humid = False\n",
        "  print(\"It is not muggy\")\n",
        "\n",
        "if(is_it_warm and is_it_humid == True):\n",
        "  print(\"It is warm and humid\")\n",
        "elif(is_it_warm != is_it_humid):\n",
        "  print(f\"It is either warm {is_it_warm} or humid {is_it_humid}\")  \n",
        "\n",
        "is_it_coldstr = input(\"Is it cold? (yes/no): \")\n",
        "if(is_it_coldstr) == \"yes\":\n",
        "  is_it_cold = True\n",
        "  print(\"It is cold weather\")\n",
        "elif ((is_it_coldstr) == \"no\"):\n",
        "  is_it_cold = False\n",
        "  print(\"It is not cold\")\n",
        "\n",
        "is_it_icystr = input(\"Is it icy? (yes/no): \")\n",
        "if(is_it_icystr) == \"yes\":\n",
        "  is_it_icy = True\n",
        "  print(\"It is icy\")\n",
        "elif ((is_it_icystr) == \"no\"):\n",
        "  is_it_icy = False\n",
        "  print(\"It is not icy\")\n",
        "\n",
        "if(is_it_cold or is_it_icy == True):\n",
        "  print(f\"I need a coat as it is either cold {is_it_cold} or icy {is_it_icy}\")\n",
        "elif(is_it_cold and is_it_icy == True):  \n",
        "  print(f\"I need a coat as it is cold {is_it_cold} and icy {is_it_icy}\")\n",
        "elif(is_it_cold is False and is_it_icy is False):\n",
        "  print(f\"I dont need a coat as it is not cold {is_it_cold} and it is not icy {is_it_icy}\")\n",
        "\n",
        "is_it_foggystr = input(\"Is it foggy? (yes/no): \")\n",
        "if(is_it_foggystr) == \"yes\":\n",
        "  is_it_foggy = True\n",
        "  print(\"It is foggy\")\n",
        "elif ((is_it_foggystr) == \"no\"):\n",
        "  is_it_icy = False\n",
        "  print(\"It is not foggy\")\n",
        "\n",
        "is_it_windystr = input(\"Is it windy? (yes/no): \")\n",
        "if(is_it_windystr) == \"yes\":\n",
        "  is_it_windy = True\n",
        "  print(\"It is windy\")\n",
        "elif ((is_it_windystr) == \"no\"):\n",
        "  is_it_windy = False\n",
        "  print(\"It is not windy\")\n",
        "\n",
        "is_it_overcaststr = input(\"Is it overcast? (yes/no): \")\n",
        "if(is_it_overcaststr) == \"yes\":\n",
        "  is_it_overcast = True\n",
        "  print(\"It is overcast\")\n",
        "elif ((is_it_overcaststr) == \"no\"):\n",
        "  is_it_overcast = False\n",
        "  print(\"It is not overcast\")\n",
        "\n",
        "if(is_it_overcast and (is_it_foggy or is_it_windy) is True):\n",
        " print(f\"It is likely to rain as it is overcast {(is_it_overcast)} and either foggy {(is_it_foggy)} or windy {(is_it_windy)}\")\n",
        "elif ((is_it_foggy or is_it_windy) is True and is_it_overcast is False):\n",
        " print(f\"It is either foggy {(is_it_foggy)} or windy {(is_it_windy)} but unlikely to rain as it is not overcast {(is_it_overcast)}\")  "
      ],
      "execution_count": 0,
      "outputs": [
        {
          "output_type": "stream",
          "text": [
            "Is it warming? (yes/no): yes\n",
            "It is summer weather\n",
            "Is it humid? (yes/no): yes\n",
            "It is muggy\n",
            "It is warm and humid\n",
            "Is it cold? (yes/no): no\n",
            "It is not cold\n",
            "Is it icy? (yes/no): no\n",
            "It is not icy\n",
            "I dont need a coat as it is not cold False and it is not icy False\n",
            "Is it foggy? (yes/no): no\n",
            "It is not foggy\n",
            "Is it windy? (yes/no): yes\n",
            "It is windy\n",
            "Is it overcast? (yes/no): yes\n",
            "It is overcast\n",
            "It is likely to rain as it is overcast True and either foggy False or windy True\n"
          ],
          "name": "stdout"
        }
      ]
    },
    {
      "cell_type": "markdown",
      "metadata": {
        "id": "c70y61m1Vtn3",
        "colab_type": "text"
      },
      "source": [
        "## LOGIC\n",
        "\n",
        "\n"
      ]
    },
    {
      "cell_type": "markdown",
      "metadata": {
        "id": "6IGtJU8oV5a8",
        "colab_type": "text"
      },
      "source": [
        "### P1.PY"
      ]
    },
    {
      "cell_type": "code",
      "metadata": {
        "id": "8dx3WRHBVtn4",
        "colab_type": "code",
        "outputId": "627e1368-6cd7-479d-eb78-cb4e874b0d20",
        "colab": {
          "base_uri": "https://localhost:8080/",
          "height": 68
        }
      },
      "source": [
        "\"\"\"\n",
        "Calculate Grade\n",
        "\"\"\"\n",
        "\n",
        "#grade = 74  # expect this to be a number\n",
        "\n",
        "# write a program that will print the \"letter\"\n",
        "# equivalent of the grade, for example:\n",
        "# when grade = 90 # -> expect A\n",
        "# when grade = 80 # -> expect B\n",
        "# when grade = 70 # -> expect C\n",
        "# when grade = 60 # -> expect D\n",
        "# when grade = 54 # -> expect F\n",
        "# when grade = -10 # -> expect Error\n",
        "# when grade = 10000 # -> expect Error\n",
        "# when grade = \"lol skool sucks\" # -> expect Error\n",
        "grade = input(\"What was your grade numeric between 1 and 100:  \")\n",
        "grade = int(grade)\n",
        "print(type(grade))\n",
        "if grade >= 90 and grade <= 100:\n",
        "  print (\"Grade is an A\")\n",
        "elif grade>= 80 and grade < 90:\n",
        "  print(\"Grade is B\")\n",
        "elif grade >= 70 and grade < 80:\n",
        "  print(\"Grade is C\")\n",
        "elif grade >= 60 and grade < 70:\n",
        "  print(\"Grade is D\")\n",
        "elif grade >= 0 and grade < 60 : \n",
        "  print (\"Grade is F\")\n",
        "if grade < 0  or grade > 100:\n",
        "  print (\"Invalid number\")      \n",
        "\n"
      ],
      "execution_count": 0,
      "outputs": [
        {
          "output_type": "stream",
          "text": [
            "What was your grade numeric between 1 and 100:  98\n",
            "<class 'int'>\n",
            "Grade is an A\n"
          ],
          "name": "stdout"
        }
      ]
    },
    {
      "cell_type": "markdown",
      "metadata": {
        "id": "HLfJLQFKVtoK",
        "colab_type": "text"
      },
      "source": [
        "\n",
        "\n",
        "### P2.PY\n",
        "\n",
        "\n"
      ]
    },
    {
      "cell_type": "code",
      "metadata": {
        "id": "g3fT3CxqVtoO",
        "colab_type": "code",
        "outputId": "bdce0675-40fa-43e2-f12b-76be19676d97",
        "colab": {
          "base_uri": "https://localhost:8080/",
          "height": 289
        }
      },
      "source": [
        "\"\"\"\n",
        "Sign of Product\n",
        "\"\"\"\n",
        "\n",
        "# Given three numbers, a, b, c, without multiplying, determine the sign of their product.\n",
        "\n",
        "# EXAMPLE: a = -5, b = 6, c = -4, print 1\n",
        "\n",
        "# EXAMPLE: a = 5, b = 6, c = -4, print -1\n",
        "\n",
        "x = input(\"type the first positive or negative number: \")\n",
        "y = input(\"type the second positive or negative number: \")\n",
        "z = input(\"type the third positive or negative number: \")\n",
        "print(x, y, z)\n",
        "xyz = [int(x), int(y), int(z)]\n",
        "print(xyz)\n",
        "print(type(xyz))\n",
        "\n",
        "if (xyz[0] < 0):\n",
        "  xyz[0] = -1\n",
        "elif(xyz[0] > 0):\n",
        "  xyz[0] = 1\n",
        "xyz0 = xyz[0] \n",
        "print(xyz0)\n",
        "\n",
        "if (xyz[1] < 0):\n",
        "  xyz[1] = -1\n",
        "elif(xyz[1] > 0):\n",
        "  xyz[1] = 1\n",
        "xyz1 = xyz[1]    \n",
        "print(xyz1)\n",
        "\n",
        "if (xyz[2] < 0):\n",
        "  xyz[2] = -1\n",
        "elif(xyz[2] > 0):\n",
        "  abc[2] = 1 \n",
        "xyz2 = xyz[2]   \n",
        "print(xyz2)\n",
        "\n",
        "summedxyz = sum((xyz0, xyz1, xyz2))\n",
        "print(summed)\n",
        "if summedxyz < 0:\n",
        "  print(f\"Example 1. Sign of the product is negative as 2 of the numbers are negatives\")\n",
        "else:\n",
        "  print(f\"Example 1. Sign of the product is positive as 2 of the numbers are positive\")\n",
        "\n",
        "abc = [-5, 6, -4]\n",
        "if (abc[0] < 0):\n",
        "  abc[0] = -1\n",
        "elif(abc[0] > 0):\n",
        "  abc[0] = 1\n",
        "abc0 = abc[0] \n",
        "print(abc0)\n",
        "\n",
        "if (abc[1] < 0):\n",
        "  abc[1] = -1\n",
        "elif(abc[1] > 0):\n",
        "  abc[1] = 1\n",
        "abc1 = abc[1]    \n",
        "print(abc1)\n",
        "\n",
        "if (abc[2] < 0):\n",
        "  abc[2] = -1\n",
        "elif(abc[2] > 0):\n",
        "  abc[2] = 1 \n",
        "abc2 = abc[2]   \n",
        "print(abc2)\n",
        "\n",
        "summed = sum((abc0, abc1, abc2))\n",
        "print(summed)\n",
        "if summed < 0:\n",
        "  print(f\"Example 1. Sign of the product is negative as 2 of the numbers are negatives\")\n",
        "else:\n",
        "  print(f\"Example 1. Sign of the product is positive as 2 of the numbers are positive\")\n",
        "\n",
        "#a, b, c = -5, 6, -4\n",
        "#if a < 0:\n",
        "#  a = -1\n",
        "#elif a > 0:\n",
        "#  a = 1\n",
        "#if b < 0:    \n",
        "#  b = -1\n",
        "#elif b > 0:\n",
        "#  b = 1\n",
        "#if c < 0:\n",
        "#  c = -1\n",
        "#elif c > 0:\n",
        "#  c = 1\n",
        "#summed = sum([a, b, c])  \n",
        "#print(summed)\n",
        "#if(summed < 0):\n",
        "\n"
      ],
      "execution_count": 0,
      "outputs": [
        {
          "output_type": "stream",
          "text": [
            "type the first positive or negative number: -5\n",
            "type the second positive or negative number: 50\n",
            "type the third positive or negative number: 500\n",
            "-5 50 500\n",
            "[-5, 50, 500]\n",
            "<class 'list'>\n",
            "-1\n",
            "1\n",
            "500\n",
            "-1\n",
            "Example 1. Sign of the product is positive as 2 of the numbers are positive\n",
            "-1\n",
            "1\n",
            "-1\n",
            "-1\n",
            "Example 1. Sign of the product is negative as 2 of the numbers are negatives\n"
          ],
          "name": "stdout"
        }
      ]
    },
    {
      "cell_type": "markdown",
      "metadata": {
        "id": "eUuhYKriVtoS",
        "colab_type": "text"
      },
      "source": [
        "\n",
        "\n",
        "### P3.PY\n",
        "\n",
        "\n"
      ]
    },
    {
      "cell_type": "code",
      "metadata": {
        "id": "gtAMAAaYVtoT",
        "colab_type": "code",
        "outputId": "393a3831-2346-40f7-b356-df4954558f33",
        "colab": {
          "base_uri": "https://localhost:8080/",
          "height": 68
        }
      },
      "source": [
        "\"\"\"\n",
        "Any Uppercase\n",
        "\"\"\"\n",
        "\n",
        "# Given a string str, determine if there are any uppercase values in it. Use only conditional statements and string methods (you may have to look some up!)\n",
        "\n",
        "# EXAMPLE: str = \"teSt\", print True\n",
        "\n",
        "sample_str = input(\"Type a word with both upper and lower case or all upper and all lower case: \")\n",
        "print(sample_str)\n",
        "mixed = not sample_str.isupper() and not sample_str.islower()\n",
        "upper = sample_str.isupper()\n",
        "lower = sample_str.islower()\n",
        "# print(mixed)\n",
        "if (mixed) is True:\n",
        "  print(f\"The word is  mixed case {mixed}\")\n",
        "#elif mixed is False:\n",
        "elif upper is True:  \n",
        "  print(f\"The word is upper case {upper}\")\n",
        "  print(type(upper))\n",
        "elif lower is True:\n",
        " print(f\"The word is lower case {lower}\")\n",
        " "
      ],
      "execution_count": 0,
      "outputs": [
        {
          "output_type": "stream",
          "text": [
            "Type a word with both upper and lower case or all upper and all lower case: sunday\n",
            "sunday\n",
            "The word is lower case True\n"
          ],
          "name": "stdout"
        }
      ]
    },
    {
      "cell_type": "markdown",
      "metadata": {
        "id": "wG8CE6QTVtoW",
        "colab_type": "text"
      },
      "source": [
        "\n",
        "\n",
        "### P4.PY\n",
        "\n",
        "\n"
      ]
    },
    {
      "cell_type": "code",
      "metadata": {
        "id": "xZ5Mt4jSVtoX",
        "colab_type": "code",
        "outputId": "02161641-d533-449d-baca-039bb2da920f",
        "colab": {
          "base_uri": "https://localhost:8080/",
          "height": 51
        }
      },
      "source": [
        "\"\"\"\n",
        "Empty Strings\n",
        "\"\"\"\n",
        "\n",
        "# Given any empty string, of the form:\n",
        "\n",
        "# ''\n",
        "# ' '\n",
        "# '  '\n",
        "# any other num of spaces...\n",
        "\n",
        "# determine if the str is empty or not (print True or False). Hint: You'll need to look up how to remove trailing spaces from a string.\n",
        "\n",
        "sample_str = \"   \"\n",
        "print(f\"A string with empty spaces will evaluate to {bool(sample_str)}\")\n",
        "sample_str = sample_str.strip()\n",
        "print(f\"An empty string will evaluate to {bool(sample_str)}\")\n"
      ],
      "execution_count": 0,
      "outputs": [
        {
          "output_type": "stream",
          "text": [
            "A string with empty spaces will evaluate to True\n",
            "An empty string will evaluate to False\n"
          ],
          "name": "stdout"
        }
      ]
    },
    {
      "cell_type": "markdown",
      "metadata": {
        "id": "WlgQdALoVtof",
        "colab_type": "text"
      },
      "source": [
        "\n",
        "\n",
        "### P5.PY\n",
        "\n",
        "\n"
      ]
    },
    {
      "cell_type": "code",
      "metadata": {
        "id": "7_k9rebsVtog",
        "colab_type": "code",
        "outputId": "8f92a051-384e-4fd7-b9b1-77d1bfbfa2eb",
        "colab": {
          "base_uri": "https://localhost:8080/",
          "height": 119
        }
      },
      "source": [
        "\"\"\"\n",
        "truthTableEvaluator\n",
        "\"\"\"\n",
        "\n",
        "# Given the following inputs:\n",
        "\n",
        "\n",
        "# P = # True or False\n",
        "# Q = # True or False\n",
        "# op = # '^' (logical AND, conjunction) INTERSECTION of 2 sets\n",
        "#      # OR, 'v' (logical OR, disjunction) UNION of 2 sets\n",
        "#      # OR, '->' (logical conditional, implication) IF, THEN\n",
        "#      # OR, '<->' (biconditional) IF, THEN in both directions\n",
        "# determine the correct outcome.\n",
        "\n",
        "# https://medium.com/i-math/intro-to-truth-tables-boolean-algebra-73b331dd9b94\n",
        "\n",
        "p_str = input(\"Type p's value as either True or False: \")\n",
        "q_str = input(\"Type q's value as either True or False: \")\n",
        "\n",
        "# Set up value of p in bool\n",
        "if (p_str == \"True\"):\n",
        "  p = True\n",
        "elif (p_str == \"False\"):\n",
        "  p = False\n",
        "\n",
        "# Set up value of q in bool\n",
        "if (q_str == \"True\"):\n",
        "  q = True\n",
        "elif (q_str == \"False\"):\n",
        "  q = False\n",
        "\n",
        "#First Operator '^', AND\n",
        "if p == True and q == True:\n",
        "  print(f\"AND Operator - Both p and q are True (evaluation of p and q is TRUE). In this case they are both {p} and {q}\")\n",
        "elif (p != q) or (p == False and q == False):\n",
        "  print(f\"AND Operator - p and q are different values or both are False (evaluation of p and q is FALSE). In this case, they are {p} and {q}\")\n",
        "\n",
        "#Second Operator 'v', OR\n",
        "if p == False and q == False:\n",
        "  print (f\"OR Operator - Both p and q are False (evaluation of p and q is False). They are both {p} and {q}\")\n",
        "elif (p == True or q == True):\n",
        "  print(f\"OR Operator - Either p or q is True or both are True (evaluation is True). The value of p is {p} and the value of q is {q}\")\n",
        "\n",
        "#Third Operator IF / THEN\n",
        "if p == True and q == True:\n",
        "  print(f\"if->then Operator - Both p and q are True (evaluation of p and q is TRUE). In this case they are both {p} and {q}\")\n",
        "elif p == True and q == False:\n",
        "  print (f\"if->then Operator - value of p and q is {p} and {q} resulting in False \")\n",
        "elif p == False and q == True:\n",
        "  print (f\"if->then Operator - value of p and q is {p} and {q} resulting in True \") \n",
        "elif p == False and q == False:\n",
        "  print (f\"if->then Operator - value of p and q is {p} and {q} resulting in True \")\n",
        "\n",
        "#Fourth Operator IF / THEN bi-conditional\n",
        "if p == q:\n",
        "  print(f\"bi-conditional Operator - Both p and q are equal (evaluation of p and q is TRUE). In this case they are both {p} and {q}\")\n",
        "elif p != q:\n",
        "  print (f\"bi-conditional Operator - p and q is not equal resulting in False. Value of p and q is {p} and {q}\")"
      ],
      "execution_count": 0,
      "outputs": [
        {
          "output_type": "stream",
          "text": [
            "Type p's value as either True or False: True\n",
            "Type q's value as either True or False: False\n",
            "AND Operator - p and q are different values or both are False (evaluation of p and q is FALSE). In this case, they are True and False\n",
            "OR Operator - Either p or q is True or both are True (evaluation is True). The value of p is True and the value of q is False\n",
            "if->then Operator - value of p and q is True and False resulting in False \n",
            "bi-conditional Operator - p and q is not equal resulting in False. Value of is True and False\n"
          ],
          "name": "stdout"
        }
      ]
    },
    {
      "cell_type": "markdown",
      "metadata": {
        "id": "zayFQdU7Vto2",
        "colab_type": "text"
      },
      "source": [
        "## RANDOM NUMBERS\n",
        "\n",
        "\n",
        "\n",
        "\n"
      ]
    },
    {
      "cell_type": "markdown",
      "metadata": {
        "id": "gtAK4fQAV9BC",
        "colab_type": "text"
      },
      "source": [
        "### P1.PY"
      ]
    },
    {
      "cell_type": "code",
      "metadata": {
        "id": "_dlFvP4QVto3",
        "colab_type": "code",
        "outputId": "43bc5f6d-b9cf-47c7-a4c1-0e8949a2bf52",
        "colab": {
          "base_uri": "https://localhost:8080/",
          "height": 68
        }
      },
      "source": [
        "\"\"\"\n",
        "Generate Traffic Light\n",
        "\"\"\"\n",
        "\n",
        "# import python randomint package\n",
        "\n",
        "\n",
        "# generates a random number from 1 to 3\n",
        "\n",
        "\n",
        "# if 1, print 'red'\n",
        "# if 2, print 'green',\n",
        "# if 3, print 'yellow'\n",
        "import random\n",
        "for random1 in range(3):\n",
        "  random1 = (random.randint(1,3))\n",
        "  #print(random1)\n",
        "  if (random1 == 1):\n",
        "    print(\"1 selected and color is red\")\n",
        "  elif (random1 == 2): \n",
        "    print(\"2 selected and color is green\")\n",
        "  elif random1 == 3:\n",
        "    print(\"3 selected and color is yellow\")  \n",
        "  elif random1 < 1 or random1 > 3:\n",
        "    print(\"number beyond the range of 1 - 3\")  \n"
      ],
      "execution_count": 0,
      "outputs": [
        {
          "output_type": "stream",
          "text": [
            "3 selected and color is yellow\n",
            "2 selected and color is green\n",
            "1 selected and color is red\n"
          ],
          "name": "stdout"
        }
      ]
    },
    {
      "cell_type": "markdown",
      "metadata": {
        "id": "nO0LSd8SVto5",
        "colab_type": "text"
      },
      "source": [
        "\n",
        "\n",
        "### P2.PY\n",
        "\n",
        "\n"
      ]
    },
    {
      "cell_type": "code",
      "metadata": {
        "id": "Dp5jFc2fVtpF",
        "colab_type": "code",
        "outputId": "1f92e7d8-a083-4e65-8fc7-a73a06d8b915",
        "colab": {
          "base_uri": "https://localhost:8080/",
          "height": 34
        }
      },
      "source": [
        "\"\"\"\n",
        "Generate Phone Number w/Area Code\n",
        "\"\"\"\n",
        "\n",
        "# Generate a random phone number using these SPECS:\n",
        "### Should be a string in this format: 1-718-786-2825\n",
        "### Must randomly choose one of these area codes: 646, 718, 212\n",
        "\n",
        "import random\n",
        "for random1 in range(1):\n",
        "  random1 = (random.randint(1,3))\n",
        "if (random1 == 1):\n",
        "  area_code = 646\n",
        "elif (random1 == 2):\n",
        "  area_code = 718\n",
        "elif random1 == 3:\n",
        "  area_code = 212\n",
        "elif random1 < 1 or random1 > 3:\n",
        "  print(\"number beyond the range of 1 - 3\")\n",
        "\n",
        "# Select 3 digit phone number\n",
        "for phone_1 in range(1):\n",
        "  phone_1 = (random.randint(100,999))\n",
        "   \n",
        "# Select 4 digit phone number\n",
        "for phone_2 in range(1):\n",
        "  phone_2 = (random.randint(1000,9999))\n",
        "   \n",
        "# Full phone number\n",
        "phone_number = \"1-\" + str(area_code) +\"-\" + str(phone_1) + \"-\" + str(phone_2)\n",
        "print(f\"The phone number is {phone_number}\")"
      ],
      "execution_count": 0,
      "outputs": [
        {
          "output_type": "stream",
          "text": [
            "The phone number is 1-718-872-1715\n"
          ],
          "name": "stdout"
        }
      ]
    },
    {
      "cell_type": "code",
      "metadata": {
        "id": "3o9P9Z1U-Rm-",
        "colab_type": "code",
        "outputId": "2e00e5b8-2121-4bfa-e1d4-1b3751b35fac",
        "colab": {
          "base_uri": "https://localhost:8080/",
          "height": 51
        }
      },
      "source": [
        ""
      ],
      "execution_count": 0,
      "outputs": [
        {
          "output_type": "stream",
          "text": [
            "2\n",
            "718\n"
          ],
          "name": "stdout"
        }
      ]
    },
    {
      "cell_type": "markdown",
      "metadata": {
        "id": "gRweE3nDVtpK",
        "colab_type": "text"
      },
      "source": [
        "## RPS\n",
        "\n",
        "\n"
      ]
    },
    {
      "cell_type": "markdown",
      "metadata": {
        "id": "IFUwrDumV_Vn",
        "colab_type": "text"
      },
      "source": [
        "### P1.PY"
      ]
    },
    {
      "cell_type": "code",
      "metadata": {
        "id": "sYTmAYzDVtpL",
        "colab_type": "code",
        "colab": {}
      },
      "source": [
        ""
      ],
      "execution_count": 0,
      "outputs": []
    },
    {
      "cell_type": "code",
      "metadata": {
        "id": "kIAz7b4gQSXw",
        "colab_type": "code",
        "outputId": "482b1f26-b896-42f3-df7d-69d9029dfb48",
        "colab": {
          "base_uri": "https://localhost:8080/",
          "height": 255
        }
      },
      "source": [
        "\"\"\"\n",
        "Play RPS\n",
        "\"\"\"\n",
        "\n",
        "#p1 = 'r'  # or 'p' or 's'\n",
        "#p2 = 'r'  # or 'p' or 's'\n",
        "\n",
        "# Given a p1 and p2\n",
        "# print 1 if p1 has won\n",
        "# print 2 if p2 has won\n",
        "# print 0 if tie\n",
        "# print -1 if invalid input\n",
        "# expects both p1 and p2 inputs to be either\n",
        "# \"r\", \"p\", or \"s\"\n",
        "# winner if r vs p = p; p vs s = s; s vs r = r\n",
        "# tie is r = r; p = p; s = s\n",
        "\n",
        "# \n",
        "# set x = 0\n",
        "# input = False\n",
        "# proceed = True\n",
        "# do while proceed \n",
        "# input p1 \n",
        "# input p2\n",
        "# if p1 invalid\n",
        "# x = x + 1\n",
        "# if p2 is invalid\n",
        "# x = x + 1\n",
        "# if x = 5,\n",
        "# proceed = False\n",
        "# if p1 and p2 is valid\n",
        "# proceed = False\n",
        "# input = True (indicates correct data)\n",
        "# 2 flags to check for 2 conditions - check for invalid through while loop and for valid \n",
        "\n",
        "valid_responses = [\"r\", \"p\", \"s\"]\n",
        "x = 0\n",
        "inputflag = False\n",
        "proceed = True\n",
        "while proceed:\n",
        "  print( \"dbg1\")   \n",
        "  p1_input = str(input(\"Player 1 choice of r, p, s: \"))\n",
        "  p2_input = str(input(\"Player 2 choice of r, p, s: \"))  \n",
        "  print (p1_input)\n",
        "  print (p2_input)\n",
        "  if p1_input not in valid_responses :  \n",
        "    x = x + 1\n",
        "  if p2_input not in valid_responses:\n",
        "    x = x + 1\n",
        "  print (\"dbg2 x=\" + str(x))\n",
        "  if x > 5:\n",
        "    print (\"dbg3\")\n",
        "    proceed = False\n",
        "    continue\n",
        "  if p1_input in valid_responses:  \n",
        "    if p2_input in valid_responses:\n",
        "      inputflag = True\n",
        "      proceed = False\n",
        "if (not inputflag):\n",
        "  print( \" Data error - no valid input found - game ended\")   \n",
        "else:\n",
        "  if (p1_input == p2_input):\n",
        "    print(\"It is a tie\")\n",
        "  elif (p1_input == \"r\" and p2_input == \"s\"):\n",
        "    print(f\"Player 1 is winner p1 = {p1_input} and p2 = {p2_input}\")\n",
        "  elif (p2_input == \"r\" and p1_input == \"s\"):\n",
        "    print(f\"Player 2 is winner p1 = {p1_input} and p2 = {p2_input}\")\n",
        "  elif (p1_input == \"p\" and p2_input == \"r\"):\n",
        "    print(f\"Player 1 is winner p1 = {p1_input} and p2 = {p2_input}\")\n",
        "  elif (p2_input == \"p\") and (p1_input == \"r\"):\n",
        "    print(f\"Player 2 is winner p1 = {p1_input} and p2 = {p2_input}\")\n",
        "  elif(p1_input == \"s\" and p2_input == \"p\"):   \n",
        "    print(f\"Player 1 is winner p1 = {p1_input} and p2 = {p2_input}\")\n",
        "  elif (p2_input == \"s\") and (p1_input == \"p\"):\n",
        "    print(f\"Player 2 is winner p1 = {p1_input} and p2 = {p2_input}\")  \n",
        "print(f\"program ended\") \n",
        "# winner if r vs p = p; p vs s = s; s vs r = r\n"
      ],
      "execution_count": 18,
      "outputs": [
        {
          "output_type": "stream",
          "text": [
            "dbg1\n",
            "Player 1 choice of r, p, s: x\n",
            "Player 2 choice of r, p, s: y\n",
            "x\n",
            "y\n",
            "dbg2 x=2\n",
            "dbg1\n",
            "Player 1 choice of r, p, s: s\n",
            "Player 2 choice of r, p, s: r\n",
            "s\n",
            "r\n",
            "dbg2 x=2\n",
            "Player 2 is winner p1 = s and p2 = r\n",
            "program ended\n"
          ],
          "name": "stdout"
        }
      ]
    },
    {
      "cell_type": "markdown",
      "metadata": {
        "id": "fp77AykMVtpN",
        "colab_type": "text"
      },
      "source": [
        "\n",
        "\n",
        "### P2.PY\n",
        "\n",
        "\n"
      ]
    },
    {
      "cell_type": "code",
      "metadata": {
        "id": "mKMaxGH8VtpO",
        "colab_type": "code",
        "colab": {
          "base_uri": "https://localhost:8080/",
          "height": 153
        },
        "outputId": "1307403e-0074-4653-d2a7-21c629177e5b"
      },
      "source": [
        "\"\"\"\n",
        "Play RPS w/Computer\n",
        "\"\"\"\n",
        "\n",
        "import random\n",
        "\n",
        "p1 = None  # randomly choose 'r' or 'p' or 's'\n",
        "p2 = None  # randomly choose 'r' or 'p' or 's'\n",
        "\n",
        "# Given a p1 and p2\n",
        "# print 1 if p1 has won\n",
        "# print 2 if p2 has won\n",
        "# print 0 if tie\n",
        "# print -1 if invalid input\n",
        "# expects both p1 and p2 inputs to be either\n",
        "# \"r\", \"p\", or \"s\"\n",
        "\n",
        "import random\n",
        "for random1 in range(1):\n",
        "  random1 = (random.randint(1,3))\n",
        "  #print(random1)\n",
        "  if (random1 == 1):\n",
        "    p1_input = \"r\"\n",
        "    print(\"1 selected and p1 is r\")\n",
        "  elif (random1 == 2):\n",
        "    p1_input = \"p\" \n",
        "    print(\"2 selected and p1 is p\")\n",
        "  elif random1 == 3:\n",
        "    p1_input = \"s\"\n",
        "    print(\"3 selected and p1 is s\")  \n",
        "\n",
        "for random1 in range(1):\n",
        "  random1 = (random.randint(1,3))\n",
        "  #print(random1)\n",
        "  if (random1 == 1):\n",
        "    p2_input = \"r\"\n",
        "    print(\"1 selected and p2 is r\")\n",
        "  elif (random1 == 2):\n",
        "    p2_input = \"p\" \n",
        "    print(\"2 selected and p2 is p\")\n",
        "  elif random1 == 3:\n",
        "    p2_input = \"s\"\n",
        "    print(\"3 selected and p2 is s\")\n",
        "\n",
        "valid_responses = [\"r\", \"p\", \"s\"]\n",
        "x = 0\n",
        "inputflag = False\n",
        "proceed = True\n",
        "while proceed:\n",
        "  print( \"dbg1\")   \n",
        "#  p1_input = str(input(\"Player 1 choice of r, p, s: \"))\n",
        "#  p2_input = str(input(\"Player 2 choice of r, p, s: \"))  \n",
        "  print (p1_input)\n",
        "  print (p2_input)\n",
        "  if p1_input not in valid_responses :  \n",
        "    x = x + 1\n",
        "  if p2_input not in valid_responses:\n",
        "    x = x + 1\n",
        "  print (\"dbg2 x=\" + str(x))\n",
        "  if x > 5:\n",
        "    print (\"dbg3\")\n",
        "    proceed = False\n",
        "    continue\n",
        "  if p1_input in valid_responses:  \n",
        "    if p2_input in valid_responses:\n",
        "      inputflag = True\n",
        "      proceed = False\n",
        "if (not inputflag):\n",
        "  print( \" Data error - no valid input found - game ended\")   \n",
        "else:\n",
        "  if (p1_input == p2_input):\n",
        "    print(\"It is a tie\")\n",
        "  elif (p1_input == \"r\" and p2_input == \"s\"):\n",
        "    print(f\"Player 1 is winner p1 = {p1_input} and p2 = {p2_input}\")\n",
        "  elif (p2_input == \"r\" and p1_input == \"s\"):\n",
        "    print(f\"Player 2 is winner p1 = {p1_input} and p2 = {p2_input}\")\n",
        "  elif (p1_input == \"p\" and p2_input == \"r\"):\n",
        "    print(f\"Player 1 is winner p1 = {p1_input} and p2 = {p2_input}\")\n",
        "  elif (p2_input == \"p\") and (p1_input == \"r\"):\n",
        "    print(f\"Player 2 is winner p1 = {p1_input} and p2 = {p2_input}\")\n",
        "  elif(p1_input == \"s\" and p2_input == \"p\"):   \n",
        "    print(f\"Player 1 is winner p1 = {p1_input} and p2 = {p2_input}\")\n",
        "  elif (p2_input == \"s\") and (p1_input == \"p\"):\n",
        "    print(f\"Player 2 is winner p1 = {p1_input} and p2 = {p2_input}\")  \n",
        "print(f\"program ended\")\n"
      ],
      "execution_count": 29,
      "outputs": [
        {
          "output_type": "stream",
          "text": [
            "1 selected and p1 is r\n",
            "3 selected and p2 is s\n",
            "dbg1\n",
            "r\n",
            "s\n",
            "dbg2 x=0\n",
            "Player 1 is winner p1 = r and p2 = s\n",
            "program ended\n"
          ],
          "name": "stdout"
        }
      ]
    },
    {
      "cell_type": "markdown",
      "metadata": {
        "id": "INgOFvdoVtpU",
        "colab_type": "text"
      },
      "source": [
        "\n",
        "\n",
        "### P3.PY\n",
        "\n",
        "\n"
      ]
    },
    {
      "cell_type": "code",
      "metadata": {
        "id": "vhAAHjMSVtpV",
        "colab_type": "code",
        "colab": {
          "base_uri": "https://localhost:8080/",
          "height": 153
        },
        "outputId": "76d91deb-15e2-402b-b99f-494d2a1a6ca3"
      },
      "source": [
        "\"\"\"\n",
        "Play RPS w/Input\n",
        "\"\"\"\n",
        "\n",
        "p1_input = None  # from user input\n",
        "p2_input = None  # from user input\n",
        "\n",
        "# Given a p1 and p2\n",
        "# print 1 if p1 has won\n",
        "# print 2 if p2 has won\n",
        "# print 0 if tie\n",
        "# print -1 if invalid input\n",
        "# expects both p1 and p2 inputs to be either\n",
        "# \"r\", \"p\", or \"s\"\n",
        "\n",
        "valid_responses = [\"r\", \"p\", \"s\"]\n",
        "x = 0\n",
        "inputflag = False\n",
        "proceed = True\n",
        "while proceed:\n",
        "  print( \"dbg1\")   \n",
        "  p1_input = str(input(\"Player 1 choice of r, p, s: \"))\n",
        "  p2_input = str(input(\"Player 2 choice of r, p, s: \"))  \n",
        "  print (p1_input)\n",
        "  print (p2_input)\n",
        "  if p1_input not in valid_responses :  \n",
        "    x = x + 1\n",
        "  if p2_input not in valid_responses:\n",
        "    x = x + 1\n",
        "  print (\"dbg2 x=\" + str(x))\n",
        "  if x > 5:\n",
        "    print (\"dbg3\")\n",
        "    proceed = False\n",
        "    continue\n",
        "  if p1_input in valid_responses:  \n",
        "    if p2_input in valid_responses:\n",
        "      inputflag = True\n",
        "      proceed = False\n",
        "if (not inputflag):\n",
        "  print( \" Data error - no valid input found - game ended\")   \n",
        "else:\n",
        "  if (p1_input == p2_input):\n",
        "    print(\"It is a tie\")\n",
        "  elif (p1_input == \"r\" and p2_input == \"s\"):\n",
        "    print(f\"Player 1 is winner p1 = {p1_input} and p2 = {p2_input}\")\n",
        "  elif (p2_input == \"r\" and p1_input == \"s\"):\n",
        "    print(f\"Player 2 is winner p1 = {p1_input} and p2 = {p2_input}\")\n",
        "  elif (p1_input == \"p\" and p2_input == \"r\"):\n",
        "    print(f\"Player 1 is winner p1 = {p1_input} and p2 = {p2_input}\")\n",
        "  elif (p2_input == \"p\") and (p1_input == \"r\"):\n",
        "    print(f\"Player 2 is winner p1 = {p1_input} and p2 = {p2_input}\")\n",
        "  elif(p1_input == \"s\" and p2_input == \"p\"):   \n",
        "    print(f\"Player 1 is winner p1 = {p1_input} and p2 = {p2_input}\")\n",
        "  elif (p2_input == \"s\") and (p1_input == \"p\"):\n",
        "    print(f\"Player 2 is winner p1 = {p1_input} and p2 = {p2_input}\")  \n",
        "print(f\"program ended\")\n"
      ],
      "execution_count": 30,
      "outputs": [
        {
          "output_type": "stream",
          "text": [
            "dbg1\n",
            "Player 1 choice of r, p, s: r\n",
            "Player 2 choice of r, p, s: p\n",
            "r\n",
            "p\n",
            "dbg2 x=0\n",
            "Player 2 is winner p1 = r and p2 = p\n",
            "program ended\n"
          ],
          "name": "stdout"
        }
      ]
    },
    {
      "cell_type": "markdown",
      "metadata": {
        "id": "SUqNu57OVtpY",
        "colab_type": "text"
      },
      "source": [
        "\n",
        "\n",
        "### P4.PY\n",
        "\n",
        "\n"
      ]
    },
    {
      "cell_type": "code",
      "metadata": {
        "id": "Vmlr5AqSVtpY",
        "colab_type": "code",
        "colab": {
          "base_uri": "https://localhost:8080/",
          "height": 153
        },
        "outputId": "0da3985c-20e1-489a-d109-90517db6205e"
      },
      "source": [
        "\"\"\"\n",
        "Play RPS against Computer\n",
        "\"\"\"\n",
        "\n",
        "p1 = None  # from user input - we still want validation from above!\n",
        "p2 = None  # randomly generated against computer\n",
        "\n",
        "# Given a p1 and p2\n",
        "# print 1 if p1 has won\n",
        "# print 2 if p2 has won\n",
        "# print 0 if tie\n",
        "# print -1 if invalid input\n",
        "# expects both p1 and p2 inputs to be either\n",
        "# \"r\", \"p\", or \"s\"\n",
        "\n",
        "for random1 in range(1):\n",
        "  random1 = (random.randint(1,3))\n",
        "  #print(random1)\n",
        "  if (random1 == 1):\n",
        "    p2_input = \"r\"\n",
        "    print(\"1 selected and p2 is r\")\n",
        "  elif (random1 == 2):\n",
        "    p2_input = \"p\" \n",
        "    print(\"2 selected and p2 is p\")\n",
        "  elif random1 == 3:\n",
        "    p2_input = \"s\"\n",
        "    print(\"3 selected and p2 is s\")\n",
        "\n",
        "\n",
        "valid_responses = [\"r\", \"p\", \"s\"]\n",
        "x = 0\n",
        "inputflag = False\n",
        "proceed = True\n",
        "while proceed:\n",
        "  print( \"dbg1\")   \n",
        "  p1_input = str(input(\"Player 1 choice of r, p, s: \"))\n",
        "  #p2_input = str(input(\"Player 2 choice of r, p, s: \"))  \n",
        "  print (p1_input)\n",
        "  print (p2_input)\n",
        "  if p1_input not in valid_responses :  \n",
        "    x = x + 1\n",
        "  if p2_input not in valid_responses:\n",
        "    x = x + 1\n",
        "  print (\"dbg2 x=\" + str(x))\n",
        "  if x > 5:\n",
        "    print (\"dbg3\")\n",
        "    proceed = False\n",
        "    continue\n",
        "  if p1_input in valid_responses:  \n",
        "    if p2_input in valid_responses:\n",
        "      inputflag = True\n",
        "      proceed = False\n",
        "if (not inputflag):\n",
        "  print( \" Data error - no valid input found - game ended\")   \n",
        "else:\n",
        "  if (p1_input == p2_input):\n",
        "    print(\"It is a tie\")\n",
        "  elif (p1_input == \"r\" and p2_input == \"s\"):\n",
        "    print(f\"Player 1 is winner p1 = {p1_input} and p2 = {p2_input}\")\n",
        "  elif (p2_input == \"r\" and p1_input == \"s\"):\n",
        "    print(f\"Player 2 is winner p1 = {p1_input} and p2 = {p2_input}\")\n",
        "  elif (p1_input == \"p\" and p2_input == \"r\"):\n",
        "    print(f\"Player 1 is winner p1 = {p1_input} and p2 = {p2_input}\")\n",
        "  elif (p2_input == \"p\") and (p1_input == \"r\"):\n",
        "    print(f\"Player 2 is winner p1 = {p1_input} and p2 = {p2_input}\")\n",
        "  elif(p1_input == \"s\" and p2_input == \"p\"):   \n",
        "    print(f\"Player 1 is winner p1 = {p1_input} and p2 = {p2_input}\")\n",
        "  elif (p2_input == \"s\") and (p1_input == \"p\"):\n",
        "    print(f\"Player 2 is winner p1 = {p1_input} and p2 = {p2_input}\")  \n",
        "print(f\"program ended\")"
      ],
      "execution_count": 35,
      "outputs": [
        {
          "output_type": "stream",
          "text": [
            "2 selected and p2 is p\n",
            "dbg1\n",
            "Player 1 choice of r, p, s: r\n",
            "r\n",
            "p\n",
            "dbg2 x=0\n",
            "Player 2 is winner p1 = r and p2 = p\n",
            "program ended\n"
          ],
          "name": "stdout"
        }
      ]
    },
    {
      "cell_type": "markdown",
      "metadata": {
        "id": "F_7aaMtoVtpt",
        "colab_type": "text"
      },
      "source": [
        "\n",
        "\n",
        "### P5.PY\n",
        "\n",
        "\n"
      ]
    },
    {
      "cell_type": "code",
      "metadata": {
        "id": "U24EGu3VVtpu",
        "colab_type": "code",
        "colab": {
          "base_uri": "https://localhost:8080/",
          "height": 153
        },
        "outputId": "c93e1711-e812-4af5-d686-96793ad4ac53"
      },
      "source": [
        "\"\"\"\n",
        "Play RPS w/Bad Input\n",
        "\"\"\"\n",
        "\n",
        "p1 = None  # can be invalid!\n",
        "p2 = None  # can be invalid!\n",
        "\n",
        "\"\"\"\n",
        "This is the same as the original RPS problem, \n",
        "except that cannot expect the input to be valid. \n",
        "While we *want* `r` or `p` or `s`, there is a possibility \n",
        "that input can be anything like...\n",
        "\n",
        "* `ROCK` (all caps)\n",
        "* `R` (`r` but capitalized)\n",
        "* `PAPrrRR` (incorrectly spelled, upper/lowercased)\n",
        "\n",
        "Implement conditional statements that will sanitize the \n",
        "user input or let user know that input is invalid.\n",
        "\"\"\"\n",
        "\n",
        "valid_responses = [\"r\", \"p\", \"s\"]\n",
        "x = 0\n",
        "inputflag = False\n",
        "proceed = True\n",
        "while proceed:\n",
        "  print( \"dbg1\")   \n",
        "  p1_input = str(input(\"Player 1 choice of r, p, s: \")).casefold()\n",
        "  p2_input = str(input(\"Player 2 choice of r, p, s: \"))  \n",
        "  print (p1_input)\n",
        "  print (p2_input)\n",
        "  if p1_input not in valid_responses :  \n",
        "    x = x + 1\n",
        "  if p2_input not in valid_responses:\n",
        "    x = x + 1\n",
        "  print (\"dbg2 x=\" + str(x))\n",
        "  if x > 5:\n",
        "    print (\"dbg3\")\n",
        "    proceed = False\n",
        "    continue\n",
        "  if p1_input in valid_responses:  \n",
        "    if p2_input in valid_responses:\n",
        "      inputflag = True\n",
        "      proceed = False\n",
        "if (not inputflag):\n",
        "  print( \" Data error - no valid input found - game ended\")   \n",
        "else:\n",
        "  if (p1_input == p2_input):\n",
        "    print(\"It is a tie\")\n",
        "  elif (p1_input == \"r\" and p2_input == \"s\"):\n",
        "    print(f\"Player 1 is winner p1 = {p1_input} and p2 = {p2_input}\")\n",
        "  elif (p2_input == \"r\" and p1_input == \"s\"):\n",
        "    print(f\"Player 2 is winner p1 = {p1_input} and p2 = {p2_input}\")\n",
        "  elif (p1_input == \"p\" and p2_input == \"r\"):\n",
        "    print(f\"Player 1 is winner p1 = {p1_input} and p2 = {p2_input}\")\n",
        "  elif (p2_input == \"p\") and (p1_input == \"r\"):\n",
        "    print(f\"Player 2 is winner p1 = {p1_input} and p2 = {p2_input}\")\n",
        "  elif(p1_input == \"s\" and p2_input == \"p\"):   \n",
        "    print(f\"Player 1 is winner p1 = {p1_input} and p2 = {p2_input}\")\n",
        "  elif (p2_input == \"s\") and (p1_input == \"p\"):\n",
        "    print(f\"Player 2 is winner p1 = {p1_input} and p2 = {p2_input}\")  \n",
        "print(f\"program ended\")\n"
      ],
      "execution_count": 36,
      "outputs": [
        {
          "output_type": "stream",
          "text": [
            "dbg1\n",
            "Player 1 choice of r, p, s: R\n",
            "Player 2 choice of r, p, s: s\n",
            "r\n",
            "s\n",
            "dbg2 x=0\n",
            "Player 1 is winner p1 = r and p2 = s\n",
            "program ended\n"
          ],
          "name": "stdout"
        }
      ]
    }
  ]
}